{
  "nbformat": 4,
  "nbformat_minor": 0,
  "metadata": {
    "colab": {
      "provenance": [],
      "include_colab_link": true
    },
    "kernelspec": {
      "name": "python3",
      "display_name": "Python 3"
    },
    "language_info": {
      "name": "python"
    }
  },
  "cells": [
    {
      "cell_type": "markdown",
      "metadata": {
        "id": "view-in-github",
        "colab_type": "text"
      },
      "source": [
        "<a href=\"https://colab.research.google.com/github/Thivakaran-Suntharalingam/Deep-Learning-with-Keras/blob/master/1_Tensorflow_Intro.ipynb\" target=\"_parent\"><img src=\"https://colab.research.google.com/assets/colab-badge.svg\" alt=\"Open In Colab\"/></a>"
      ]
    },
    {
      "cell_type": "code",
      "metadata": {
        "id": "6TrehI3pWj5O"
      },
      "source": [
        "import numpy as np\n",
        "import tensorflow as tf"
      ],
      "execution_count": null,
      "outputs": []
    },
    {
      "cell_type": "code",
      "metadata": {
        "id": "h8F8AbbUWox5"
      },
      "source": [
        "x = tf.Variable(3.0)"
      ],
      "execution_count": null,
      "outputs": []
    },
    {
      "cell_type": "code",
      "source": [
        "print(x.numpy())"
      ],
      "metadata": {
        "colab": {
          "base_uri": "https://localhost:8080/"
        },
        "id": "YTrnmaK2DUAk",
        "outputId": "1cd08dac-113c-4759-f1e3-c0c1470b20e4"
      },
      "execution_count": null,
      "outputs": [
        {
          "output_type": "stream",
          "name": "stdout",
          "text": [
            "3.0\n"
          ]
        }
      ]
    },
    {
      "cell_type": "code",
      "metadata": {
        "id": "Us7AOK2sW5Mu"
      },
      "source": [
        "with tf.GradientTape() as tape:\n",
        "  y = x * x"
      ],
      "execution_count": null,
      "outputs": []
    },
    {
      "cell_type": "code",
      "metadata": {
        "id": "Cq4_-TzLXCJ9",
        "colab": {
          "base_uri": "https://localhost:8080/"
        },
        "outputId": "31985794-a9db-4005-ee08-c5318ea1b548"
      },
      "source": [
        "y.numpy()"
      ],
      "execution_count": null,
      "outputs": [
        {
          "output_type": "execute_result",
          "data": {
            "text/plain": [
              "9.0"
            ]
          },
          "metadata": {},
          "execution_count": 6
        }
      ]
    },
    {
      "cell_type": "code",
      "metadata": {
        "id": "QLrhUPtJXEf9",
        "colab": {
          "base_uri": "https://localhost:8080/"
        },
        "outputId": "78bfecb2-3074-4ad4-f969-8b462c911f1a"
      },
      "source": [
        "tape.gradient(y, x)  # dy/dx"
      ],
      "execution_count": null,
      "outputs": [
        {
          "output_type": "execute_result",
          "data": {
            "text/plain": [
              "<tf.Tensor: shape=(), dtype=float32, numpy=6.0>"
            ]
          },
          "metadata": {},
          "execution_count": 7
        }
      ]
    },
    {
      "cell_type": "code",
      "metadata": {
        "id": "KqWlmCKhXJt7"
      },
      "source": [
        "x = tf.Variable([\n",
        "  [1.0, -1.0, 2.0, 4.0],\n",
        "  [-2.0, 3.0, -5.0, 9.0],\n",
        "  [4.0, 2.0, 3.0, 9.0],\n",
        "  [1.0, 5.0, 6.0, 3.0],\n",
        "])\n",
        "t = 30.0"
      ],
      "execution_count": null,
      "outputs": []
    },
    {
      "cell_type": "code",
      "metadata": {
        "id": "NpI71-FlXriu"
      },
      "source": [
        "with tf.GradientTape() as tape:  # context manager\n",
        "  a = tf.nn.max_pool2d(tf.reshape(x, (1, 4, 4, 1)), ksize=2, strides=2, padding=\"VALID\")\n",
        "  b = tf.reduce_sum(a)\n",
        "  error = 0.5 * (b - t) ** 2"
      ],
      "execution_count": null,
      "outputs": []
    },
    {
      "cell_type": "code",
      "metadata": {
        "id": "W3wfJpkmZkig",
        "colab": {
          "base_uri": "https://localhost:8080/"
        },
        "outputId": "bc45dbb5-ad7b-4564-8c2b-0f85ef14bf42"
      },
      "source": [
        "a"
      ],
      "execution_count": null,
      "outputs": [
        {
          "output_type": "execute_result",
          "data": {
            "text/plain": [
              "<tf.Tensor: shape=(1, 2, 2, 1), dtype=float32, numpy=\n",
              "array([[[[3.],\n",
              "         [9.]],\n",
              "\n",
              "        [[5.],\n",
              "         [9.]]]], dtype=float32)>"
            ]
          },
          "metadata": {},
          "execution_count": 22
        }
      ]
    },
    {
      "cell_type": "code",
      "source": [
        "b"
      ],
      "metadata": {
        "colab": {
          "base_uri": "https://localhost:8080/"
        },
        "id": "YeMfKoWhFEK7",
        "outputId": "50dc450f-962f-46a4-ff8e-664e00a4259c"
      },
      "execution_count": null,
      "outputs": [
        {
          "output_type": "execute_result",
          "data": {
            "text/plain": [
              "<tf.Tensor: shape=(), dtype=float32, numpy=26.0>"
            ]
          },
          "metadata": {},
          "execution_count": 23
        }
      ]
    },
    {
      "cell_type": "code",
      "metadata": {
        "id": "zjAZqAzjX8Gi",
        "colab": {
          "base_uri": "https://localhost:8080/"
        },
        "outputId": "cae11166-38ad-4ea8-dac8-2bdd1f02f24d"
      },
      "source": [
        "error"
      ],
      "execution_count": null,
      "outputs": [
        {
          "output_type": "execute_result",
          "data": {
            "text/plain": [
              "<tf.Tensor: shape=(), dtype=float32, numpy=8.0>"
            ]
          },
          "metadata": {},
          "execution_count": 24
        }
      ]
    },
    {
      "cell_type": "code",
      "metadata": {
        "id": "0JqbjqVEYMta",
        "colab": {
          "base_uri": "https://localhost:8080/"
        },
        "outputId": "4fbf3053-89fb-457c-c8e2-465269d08278"
      },
      "source": [
        "tape.gradient(error, [b, a, x])"
      ],
      "execution_count": null,
      "outputs": [
        {
          "output_type": "execute_result",
          "data": {
            "text/plain": [
              "[<tf.Tensor: shape=(), dtype=float32, numpy=-4.0>,\n",
              " <tf.Tensor: shape=(1, 2, 2, 1), dtype=float32, numpy=\n",
              " array([[[[-4.],\n",
              "          [-4.]],\n",
              " \n",
              "         [[-4.],\n",
              "          [-4.]]]], dtype=float32)>,\n",
              " <tf.Tensor: shape=(4, 4), dtype=float32, numpy=\n",
              " array([[ 0.,  0.,  0.,  0.],\n",
              "        [ 0., -4.,  0., -4.],\n",
              "        [ 0.,  0.,  0., -4.],\n",
              "        [ 0., -4.,  0.,  0.]], dtype=float32)>]"
            ]
          },
          "metadata": {},
          "execution_count": 25
        }
      ]
    }
  ]
}